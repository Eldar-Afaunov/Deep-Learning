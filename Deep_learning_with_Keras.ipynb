{
 "cells": [
  {
   "cell_type": "markdown",
   "metadata": {},
   "source": [
    "# Introduction"
   ]
  },
  {
   "cell_type": "markdown",
   "metadata": {},
   "source": [
    "In this work, we are going to apply different deep learning techniques for classification problem of CIFAR10 "
   ]
  },
  {
   "cell_type": "markdown",
   "metadata": {},
   "source": [
    "# Data excraction and Data preparation"
   ]
  },
  {
   "cell_type": "code",
   "execution_count": 1,
   "metadata": {},
   "outputs": [],
   "source": [
    "import torch\n",
    "import torch.nn as nn\n",
    "import torch.utils.data\n",
    "import torchvision.transforms as transforms\n",
    "import torchvision\n",
    "import os\n",
    "PATH = 'the directory'\n",
    "os.chdir(PATH)"
   ]
  },
  {
   "cell_type": "code",
   "execution_count": 2,
   "metadata": {},
   "outputs": [],
   "source": [
    "transform = transforms.Compose([\n",
    "    transforms.ToTensor(), transforms.Normalize((0.4914,0.48216,0.44653),\n",
    "                                               (0.24703,0.24349, 0.26159))])"
   ]
  },
  {
   "cell_type": "code",
   "execution_count": 3,
   "metadata": {},
   "outputs": [
    {
     "name": "stdout",
     "output_type": "stream",
     "text": [
      "Files already downloaded and verified\n",
      "Files already downloaded and verified\n"
     ]
    }
   ],
   "source": [
    "trainset = torchvision.datasets.CIFAR10(root = './data', train = True,\n",
    "                                        download=True, transform = transform)\n",
    "testset = torchvision.datasets.CIFAR10(root = './data', train = False,\n",
    "                                        download=True, transform = transform)\n"
   ]
  },
  {
   "cell_type": "code",
   "execution_count": 4,
   "metadata": {},
   "outputs": [],
   "source": [
    "trainloader = torch.utils.data.DataLoader(trainset, batch_size=8, shuffle = True, num_workers=2)\n",
    "testloader = torch.utils.data.DataLoader(testset, batch_size=8, shuffle = True, num_workers=2)"
   ]
  },
  {
   "cell_type": "markdown",
   "metadata": {},
   "source": [
    "# Fully connected network"
   ]
  },
  {
   "cell_type": "code",
   "execution_count": 5,
   "metadata": {},
   "outputs": [],
   "source": [
    "import torch.nn.functional as F\n",
    "class Net(nn.Module):\n",
    "    def __init__(self):    \n",
    "    \t# Define all the parameters of the net\n",
    "        super(Net, self).__init__()\n",
    "        self.fc1 = nn.Linear(32 * 32 * 3, 200)\n",
    "        self.fc2 = nn.Linear(200, 10)\n",
    "\n",
    "    def forward(self, x):    \n",
    "    \t# Do the forward pass\n",
    "        x = F.relu(self.fc1(x))\n",
    "        x = self.fc2(x)\n",
    "        return x\n",
    "model = Net()"
   ]
  },
  {
   "cell_type": "code",
   "execution_count": 6,
   "metadata": {
    "scrolled": true
   },
   "outputs": [
    {
     "name": "stdout",
     "output_type": "stream",
     "text": [
      "[1,  2000] loss: 1.821\n",
      "[1,  4000] loss: 1.631\n",
      "[1,  6000] loss: 1.573\n",
      "[2,  2000] loss: 1.474\n",
      "[2,  4000] loss: 1.490\n",
      "[2,  6000] loss: 1.464\n",
      "Finished Training\n"
     ]
    }
   ],
   "source": [
    "# Instantiate the Adam optimizer and Cross-Entropy loss function\n",
    "import torch.optim as optim\n",
    "optimizer = optim.Adam(model.parameters(), lr=3e-4)\n",
    "criterion = nn.CrossEntropyLoss()\n",
    "for epoch in range(2):\n",
    "    running_loss = 0.0\n",
    "    for batch_idx, data in enumerate(trainloader,0):\n",
    "        inputs, labels = data\n",
    "        inputs = inputs.view(-1, 32 * 32*3)\n",
    "        optimizer.zero_grad()\n",
    "        output = model(inputs)\n",
    "        loss = criterion(output, labels )\n",
    "        loss.backward()\n",
    "        optimizer.step()\n",
    "        running_loss += loss.item()\n",
    "        if batch_idx % 2000 == 1999:    # print every 2000 mini-batches\n",
    "            print('[%d, %5d] loss: %.3f' %\n",
    "                  (epoch + 1, batch_idx + 1, running_loss / 2000))\n",
    "            running_loss = 0.0\n",
    "\n",
    "print('Finished Training')"
   ]
  },
  {
   "cell_type": "code",
   "execution_count": 7,
   "metadata": {},
   "outputs": [
    {
     "name": "stdout",
     "output_type": "stream",
     "text": [
      "Accuracy of the network on the  train images: 51 %\n",
      "Accuracy of the network on the 10000 test images: 47 %\n"
     ]
    }
   ],
   "source": [
    "correct = 0\n",
    "total = 0\n",
    "model.eval()\n",
    "with torch.no_grad():\n",
    "    for data in trainloader:\n",
    "        images, labels = data\n",
    "        images = images.view(-1, 32*32*3)\n",
    "        outputs = model(images)\n",
    "        _,predicted = torch.max(outputs.data, 1)\n",
    "        total += labels.size(0)\n",
    "        correct += (predicted == labels).sum().item()\n",
    "print('Accuracy of the network on the  train images: %d %%' % (\n",
    "    100 * correct / total))\n",
    "correct = 0\n",
    "total = 0\n",
    "with torch.no_grad():\n",
    "    for data in testloader:\n",
    "        images, labels = data\n",
    "        images = images.view(-1, 32 * 32*3)\n",
    "        outputs = model(images)\n",
    "        _, predicted = torch.max(outputs.data, 1)\n",
    "        total += labels.size(0)\n",
    "        correct += (predicted == labels).sum().item()\n",
    "\n",
    "print('Accuracy of the network on the 10000 test images: %d %%' % (\n",
    "    100 * correct / total))"
   ]
  },
  {
   "cell_type": "markdown",
   "metadata": {},
   "source": [
    "we can say, there is no overfit signs, however, despite the fact that we have 10 classes 49% accuracy is relativley low, lets try a more complex fully connected net"
   ]
  },
  {
   "cell_type": "code",
   "execution_count": 8,
   "metadata": {},
   "outputs": [
    {
     "data": {
      "text/plain": [
       "Net_deep(\n",
       "  (fc1): Linear(in_features=3072, out_features=200, bias=True)\n",
       "  (fc2): Linear(in_features=200, out_features=200, bias=True)\n",
       "  (fc3): Linear(in_features=200, out_features=10, bias=True)\n",
       ")"
      ]
     },
     "execution_count": 8,
     "metadata": {},
     "output_type": "execute_result"
    }
   ],
   "source": [
    "import torch.nn.functional as F\n",
    "class Net_deep(nn.Module):\n",
    "    def __init__(self):\n",
    "        super(Net_deep, self).__init__()\n",
    "        self.fc1 = nn.Linear(32 * 32 * 3, 200)\n",
    "        self.fc2 = nn.Linear(200, 200)\n",
    "        self.fc3 = nn.Linear(200,10)\n",
    "\n",
    "    def forward(self, x):    \n",
    "    \t# Do the forward pass\n",
    "        x = F.relu(self.fc1(x))\n",
    "        x = self.fc2(x)\n",
    "        x = self.fc3(x)\n",
    "        return x\n",
    "model = Net_deep()\n",
    "model.train()"
   ]
  },
  {
   "cell_type": "code",
   "execution_count": 9,
   "metadata": {},
   "outputs": [
    {
     "name": "stdout",
     "output_type": "stream",
     "text": [
      "[1,  2000] loss: 1.807\n",
      "[1,  4000] loss: 1.633\n",
      "[1,  6000] loss: 1.582\n",
      "[2,  2000] loss: 1.484\n",
      "[2,  4000] loss: 1.481\n",
      "[2,  6000] loss: 1.462\n",
      "Finished Training\n"
     ]
    }
   ],
   "source": [
    "# Instantiate the Adam optimizer and Cross-Entropy loss function\n",
    "import torch.optim as optim\n",
    "optimizer = optim.Adam(model.parameters(), lr=3e-4)\n",
    "criterion = nn.CrossEntropyLoss()\n",
    "for epoch in range(2):\n",
    "    running_loss = 0.0\n",
    "    for batch_idx, data in enumerate(trainloader,0):\n",
    "        inputs, labels = data\n",
    "        inputs = inputs.view(-1, 32 * 32*3)\n",
    "        optimizer.zero_grad()\n",
    "        output = model(inputs)\n",
    "        loss = criterion(output, labels )\n",
    "        loss.backward()\n",
    "        optimizer.step()\n",
    "        running_loss += loss.item()\n",
    "        if batch_idx % 2000 == 1999:    # print every 2000 mini-batches\n",
    "            print('[%d, %5d] loss: %.3f' %\n",
    "                  (epoch + 1, batch_idx + 1, running_loss / 2000))\n",
    "            running_loss = 0.0\n",
    "\n",
    "print('Finished Training')"
   ]
  },
  {
   "cell_type": "code",
   "execution_count": 10,
   "metadata": {},
   "outputs": [
    {
     "name": "stdout",
     "output_type": "stream",
     "text": [
      "Accuracy of the network on the  train images: 51 %\n",
      "Accuracy of the network on the 10000 test images: 48 %\n"
     ]
    }
   ],
   "source": [
    "correct = 0\n",
    "total = 0\n",
    "model.eval()\n",
    "with torch.no_grad():\n",
    "    for data in trainloader:\n",
    "        images, labels = data\n",
    "        images = images.view(-1, 32*32*3)\n",
    "        outputs = model(images)\n",
    "        _,predicted = torch.max(outputs.data, 1)\n",
    "        total += labels.size(0)\n",
    "        correct += (predicted == labels).sum().item()\n",
    "print('Accuracy of the network on the  train images: %d %%' % (\n",
    "    100 * correct / total))\n",
    "correct = 0\n",
    "total = 0\n",
    "with torch.no_grad():\n",
    "    for data in testloader:\n",
    "        images, labels = data\n",
    "        images = images.view(-1, 32 * 32*3)\n",
    "        outputs = model(images)\n",
    "        _, predicted = torch.max(outputs.data, 1)\n",
    "        total += labels.size(0)\n",
    "        correct += (predicted == labels).sum().item()\n",
    "\n",
    "print('Accuracy of the network on the 10000 test images: %d %%' % (\n",
    "    100 * correct / total))"
   ]
  },
  {
   "cell_type": "markdown",
   "metadata": {},
   "source": [
    "clearly, we have no imporve in making deeper network, let's consider another type of network - convolutional"
   ]
  },
  {
   "cell_type": "markdown",
   "metadata": {},
   "source": [
    "# Convolutional network"
   ]
  },
  {
   "cell_type": "code",
   "execution_count": 11,
   "metadata": {},
   "outputs": [],
   "source": [
    "class conv_net(nn.Module):\n",
    "    def __init__(self):\n",
    "        super(conv_net, self).__init__()\n",
    "        self.conv1 = nn.Conv2d(in_channels=3,out_channels=32, kernel_size=3, padding=1)\n",
    "        self.conv2 = nn.Conv2d(in_channels=32,out_channels=64, kernel_size=3, padding=1)\n",
    "        self.conv3 = nn.Conv2d(in_channels=64,out_channels=128, kernel_size=3, padding=1)\n",
    "        self.pool = nn.MaxPool2d(2,2)\n",
    "        self.fc1 = nn.Linear(in_features=128*4*4, out_features=10)\n",
    "    def forward(self,x):\n",
    "        x = self.pool(F.relu(self.conv1(x)))\n",
    "        x = self.pool(F.relu(self.conv2(x)))\n",
    "        x = self.pool(F.relu(self.conv3(x)))\n",
    "        x= x.view(-1, 128*4*4)\n",
    "        x = F.relu(self.fc1(x))\n",
    "        return x"
   ]
  },
  {
   "cell_type": "code",
   "execution_count": 12,
   "metadata": {},
   "outputs": [],
   "source": [
    "model = conv_net()\n",
    "model.train()\n",
    "criterion = nn.CrossEntropyLoss()\n",
    "optimizer = optim.Adam(model.parameters(), lr = 3e-4)"
   ]
  },
  {
   "cell_type": "code",
   "execution_count": 13,
   "metadata": {},
   "outputs": [
    {
     "name": "stdout",
     "output_type": "stream",
     "text": [
      "[1,  2000] loss: 2.131\n",
      "[1,  4000] loss: 1.977\n",
      "[1,  6000] loss: 1.907\n",
      "[2,  2000] loss: 1.844\n",
      "[2,  4000] loss: 1.818\n",
      "[2,  6000] loss: 1.785\n",
      "Finished Training\n"
     ]
    }
   ],
   "source": [
    "for epoch in range(2):\n",
    "    running_loss = 0.0\n",
    "    for batch_idx, data in enumerate(trainloader,0):\n",
    "        inputs, labels = data\n",
    "        optimizer.zero_grad()\n",
    "        outputs = model(inputs)\n",
    "        loss = criterion(outputs, labels)\n",
    "        loss.backward()\n",
    "        optimizer.step()\n",
    "        running_loss += loss.item()\n",
    "        if batch_idx % 2000 == 1999:    # print every 2000 mini-batches\n",
    "            print('[%d, %5d] loss: %.3f' %\n",
    "                  (epoch + 1, batch_idx + 1, running_loss / 2000))\n",
    "            running_loss = 0.0\n",
    "\n",
    "print('Finished Training')"
   ]
  },
  {
   "cell_type": "markdown",
   "metadata": {},
   "source": [
    "Clearly, our model is stacking, it can be caused by low number of fully connected layers, \n",
    "lets add some fully connected layers at the end of the net"
   ]
  },
  {
   "cell_type": "code",
   "execution_count": 14,
   "metadata": {},
   "outputs": [],
   "source": [
    "class conv_net(nn.Module):\n",
    "    def __init__(self):\n",
    "        super(conv_net, self).__init__()\n",
    "        self.conv1 = nn.Conv2d(in_channels=3,out_channels=32, kernel_size=3, padding=1)\n",
    "        self.conv2 = nn.Conv2d(in_channels=32,out_channels=64, kernel_size=3, padding=1)\n",
    "        self.conv3 = nn.Conv2d(in_channels=64,out_channels=128, kernel_size=3, padding=1)\n",
    "        self.pool = nn.MaxPool2d(2,2)\n",
    "        self.fc1 = nn.Linear(in_features=128*4*4, out_features=200) # we are using the similar \n",
    "        self.fc2 = nn.Linear(in_features=200, out_features=100)# architecture as our \n",
    "        self.fc3 = nn.Linear(in_features=100, out_features=10)#fully connected network\n",
    "    def forward(self,x):\n",
    "        x = self.pool(F.relu(self.conv1(x)))\n",
    "        x = self.pool(F.relu(self.conv2(x)))\n",
    "        x = self.pool(F.relu(self.conv3(x)))\n",
    "        x= x.view(-1, 128*4*4)\n",
    "        x = F.relu(self.fc1(x))\n",
    "        x = F.relu(self.fc2(x))\n",
    "        x = self.fc3(x)\n",
    "        return x"
   ]
  },
  {
   "cell_type": "code",
   "execution_count": 15,
   "metadata": {},
   "outputs": [
    {
     "name": "stdout",
     "output_type": "stream",
     "text": [
      "[1,  2000] loss: 1.681\n",
      "[1,  4000] loss: 1.308\n",
      "[1,  6000] loss: 1.147\n",
      "[2,  2000] loss: 0.982\n",
      "[2,  4000] loss: 0.936\n",
      "[2,  6000] loss: 0.883\n",
      "Finished Training\n"
     ]
    }
   ],
   "source": [
    "model = conv_net()\n",
    "model.train()\n",
    "criterion = nn.CrossEntropyLoss()\n",
    "optimizer = optim.Adam(model.parameters(), lr = 3e-4)\n",
    "for epoch in range(2):\n",
    "    running_loss = 0.0\n",
    "    for batch_idx, data in enumerate(trainloader,0):\n",
    "        inputs, labels = data\n",
    "        optimizer.zero_grad()\n",
    "        outputs = model(inputs)\n",
    "        loss = criterion(outputs, labels)\n",
    "        loss.backward()\n",
    "        optimizer.step()\n",
    "        running_loss += loss.item()\n",
    "        if batch_idx % 2000 == 1999:    # print every 2000 mini-batches\n",
    "            print('[%d, %5d] loss: %.3f' %\n",
    "                  (epoch + 1, batch_idx + 1, running_loss / 2000))\n",
    "            running_loss = 0.0\n",
    "\n",
    "print('Finished Training')"
   ]
  },
  {
   "cell_type": "code",
   "execution_count": 16,
   "metadata": {},
   "outputs": [
    {
     "name": "stdout",
     "output_type": "stream",
     "text": [
      "Accuracy of the network on the  train images: 72 %\n",
      "Accuracy of the network on the 10000 test images: 69 %\n"
     ]
    }
   ],
   "source": [
    "correct = 0\n",
    "total = 0\n",
    "model.eval()\n",
    "with torch.no_grad():\n",
    "    for data in trainloader:\n",
    "        images, labels = data\n",
    "        outputs = model(images)\n",
    "        _,predicted = torch.max(outputs.data, 1)\n",
    "        total += labels.size(0)\n",
    "        correct += (predicted == labels).sum().item()\n",
    "print('Accuracy of the network on the  train images: %d %%' % (\n",
    "    100 * correct / total))\n",
    "correct = 0\n",
    "total = 0\n",
    "with torch.no_grad():\n",
    "    for data in testloader:\n",
    "        images, labels = data\n",
    "        outputs = model(images)\n",
    "        _, predicted = torch.max(outputs.data, 1)\n",
    "        total += labels.size(0)\n",
    "        correct += (predicted == labels).sum().item()\n",
    "\n",
    "print('Accuracy of the network on the 10000 test images: %d %%' % (\n",
    "    100 * correct / total))"
   ]
  },
  {
   "cell_type": "markdown",
   "metadata": {},
   "source": [
    "There are some opportunities in decreasing number of epochs, lets increase number of epochs till 10"
   ]
  },
  {
   "cell_type": "code",
   "execution_count": 19,
   "metadata": {},
   "outputs": [
    {
     "name": "stdout",
     "output_type": "stream",
     "text": [
      "[1,  2000] loss: 1.653\n",
      "[1,  4000] loss: 1.299\n",
      "[1,  6000] loss: 1.132\n",
      "[2,  2000] loss: 0.978\n",
      "[2,  4000] loss: 0.908\n",
      "[2,  6000] loss: 0.869\n",
      "[3,  2000] loss: 0.762\n",
      "[3,  4000] loss: 0.717\n",
      "[3,  6000] loss: 0.718\n",
      "[4,  2000] loss: 0.601\n",
      "[4,  4000] loss: 0.610\n",
      "[4,  6000] loss: 0.612\n",
      "[5,  2000] loss: 0.492\n",
      "[5,  4000] loss: 0.507\n",
      "[5,  6000] loss: 0.518\n",
      "[6,  2000] loss: 0.385\n",
      "[6,  4000] loss: 0.430\n",
      "[6,  6000] loss: 0.433\n",
      "[7,  2000] loss: 0.312\n",
      "[7,  4000] loss: 0.332\n",
      "[7,  6000] loss: 0.363\n",
      "[8,  2000] loss: 0.249\n",
      "[8,  4000] loss: 0.271\n",
      "[8,  6000] loss: 0.288\n",
      "[9,  2000] loss: 0.187\n",
      "[9,  4000] loss: 0.227\n",
      "[9,  6000] loss: 0.232\n",
      "[10,  2000] loss: 0.147\n",
      "[10,  4000] loss: 0.182\n",
      "[10,  6000] loss: 0.190\n",
      "Finished Training\n"
     ]
    }
   ],
   "source": [
    "model = conv_net()\n",
    "model.train()\n",
    "criterion = nn.CrossEntropyLoss()\n",
    "optimizer = optim.Adam(model.parameters(), lr = 3e-4)\n",
    "for epoch in range(10):\n",
    "    running_loss = 0.0\n",
    "    for batch_idx, data in enumerate(trainloader,0):\n",
    "        inputs, labels = data\n",
    "        optimizer.zero_grad()\n",
    "        outputs = model(inputs)\n",
    "        loss = criterion(outputs, labels)\n",
    "        loss.backward()\n",
    "        optimizer.step()\n",
    "        running_loss += loss.item()\n",
    "        if batch_idx % 2000 == 1999:    # print every 2000 mini-batches\n",
    "            print('[%d, %5d] loss: %.3f' %\n",
    "                  (epoch + 1, batch_idx + 1, running_loss / 2000))\n",
    "            running_loss = 0.0\n",
    "\n",
    "print('Finished Training')"
   ]
  },
  {
   "cell_type": "code",
   "execution_count": 20,
   "metadata": {},
   "outputs": [
    {
     "name": "stdout",
     "output_type": "stream",
     "text": [
      "Accuracy of the network on the  train images: 96 %\n",
      "Accuracy of the network on the 10000 test images: 74 %\n"
     ]
    }
   ],
   "source": [
    "correct = 0\n",
    "total = 0\n",
    "model.eval()\n",
    "with torch.no_grad():\n",
    "    for data in trainloader:\n",
    "        images, labels = data\n",
    "        outputs = model(images)\n",
    "        _,predicted = torch.max(outputs.data, 1)\n",
    "        total += labels.size(0)\n",
    "        correct += (predicted == labels).sum().item()\n",
    "print('Accuracy of the network on the  train images: %d %%' % (\n",
    "    100 * correct / total))\n",
    "correct = 0\n",
    "total = 0\n",
    "with torch.no_grad():\n",
    "    for data in testloader:\n",
    "        images, labels = data\n",
    "        outputs = model(images)\n",
    "        _, predicted = torch.max(outputs.data, 1)\n",
    "        total += labels.size(0)\n",
    "        correct += (predicted == labels).sum().item()\n",
    "\n",
    "print('Accuracy of the network on the 10000 test images: %d %%' % (\n",
    "    100 * correct / total))"
   ]
  },
  {
   "cell_type": "markdown",
   "metadata": {},
   "source": [
    "# Advanced model with regularisation technique"
   ]
  },
  {
   "cell_type": "markdown",
   "metadata": {},
   "source": [
    "One problem with complex architecture is the forward function becomes long and complicated, to solve this problem we are going to use Sequential model, grouping logically connected layers into one part, additionally we will use Batchnormalization and dropout technique for regularization."
   ]
  },
  {
   "cell_type": "code",
   "execution_count": 29,
   "metadata": {},
   "outputs": [],
   "source": [
    "class conv_net_advanced(nn.Module):\n",
    "    def __init__(self):\n",
    "        super(conv_net_advanced, self).__init__()\n",
    "        self.conv = nn.Sequential(nn.Conv2d(in_channels=3,out_channels=32, kernel_size=3, padding=1),nn.ReLU(inplace = True),\n",
    "                                  nn.MaxPool2d(2,2),\n",
    "                                   nn.BatchNorm2d(32),\n",
    "                                  nn.Conv2d(in_channels=32,out_channels=64, kernel_size=3, padding=1),nn.ReLU(inplace = True),\n",
    "                                  nn.MaxPool2d(2,2),\n",
    "                                   nn.BatchNorm2d(64),\n",
    "                                  nn.Conv2d(in_channels=64,out_channels=128, kernel_size=3, padding=1),nn.ReLU(inplace = True),\n",
    "                                 nn.MaxPool2d(2,2),\n",
    "                                  nn.BatchNorm2d(128),)\n",
    "        self.avg_pool = nn.AdaptiveAvgPool2d((6,6))\n",
    "        self.fc = nn.Sequential(nn.Linear(in_features=128*6*6, out_features=200),\n",
    "                                nn.Dropout(0.5),\n",
    "                               nn.Linear(in_features=200, out_features=100),\n",
    "                               nn.Linear(in_features=100, out_features=10))\n",
    "    def forward(self,x):\n",
    "        x = self.conv(x)\n",
    "        x = self.avg_pool(x)\n",
    "        x= x.view(-1, 128*6*6)\n",
    "        x = self.fc(x)\n",
    "        return x"
   ]
  },
  {
   "cell_type": "code",
   "execution_count": 30,
   "metadata": {},
   "outputs": [
    {
     "name": "stdout",
     "output_type": "stream",
     "text": [
      "[1,  2000] loss: 1.419\n",
      "[1,  4000] loss: 1.161\n",
      "[1,  6000] loss: 1.045\n",
      "[2,  2000] loss: 0.929\n",
      "[2,  4000] loss: 0.894\n",
      "[2,  6000] loss: 0.861\n",
      "[3,  2000] loss: 0.749\n",
      "[3,  4000] loss: 0.757\n",
      "[3,  6000] loss: 0.751\n",
      "[4,  2000] loss: 0.637\n",
      "[4,  4000] loss: 0.656\n",
      "[4,  6000] loss: 0.671\n",
      "[5,  2000] loss: 0.559\n",
      "[5,  4000] loss: 0.572\n",
      "[5,  6000] loss: 0.591\n",
      "[6,  2000] loss: 0.499\n",
      "[6,  4000] loss: 0.516\n",
      "[6,  6000] loss: 0.547\n",
      "[7,  2000] loss: 0.433\n",
      "[7,  4000] loss: 0.475\n",
      "[7,  6000] loss: 0.491\n",
      "[8,  2000] loss: 0.396\n",
      "[8,  4000] loss: 0.430\n",
      "[8,  6000] loss: 0.456\n",
      "[9,  2000] loss: 0.362\n",
      "[9,  4000] loss: 0.390\n",
      "[9,  6000] loss: 0.413\n",
      "[10,  2000] loss: 0.325\n",
      "[10,  4000] loss: 0.371\n",
      "[10,  6000] loss: 0.377\n",
      "Finished Training\n"
     ]
    }
   ],
   "source": [
    "model = conv_net_advanced()\n",
    "model.train()\n",
    "criterion = nn.CrossEntropyLoss()\n",
    "optimizer = optim.Adam(model.parameters(), lr = 3e-4)\n",
    "for epoch in range(10):\n",
    "    running_loss = 0.0\n",
    "    for batch_idx, data in enumerate(trainloader,0):\n",
    "        inputs, labels = data\n",
    "        optimizer.zero_grad()\n",
    "        outputs = model(inputs)\n",
    "        loss = criterion(outputs, labels)\n",
    "        loss.backward()\n",
    "        optimizer.step()\n",
    "        running_loss += loss.item()\n",
    "        if batch_idx % 2000 == 1999:    # print every 2000 mini-batches\n",
    "            print('[%d, %5d] loss: %.3f' %\n",
    "                  (epoch + 1, batch_idx + 1, running_loss / 2000))\n",
    "            running_loss = 0.0\n",
    "\n",
    "print('Finished Training')"
   ]
  },
  {
   "cell_type": "code",
   "execution_count": 31,
   "metadata": {},
   "outputs": [
    {
     "name": "stdout",
     "output_type": "stream",
     "text": [
      "Accuracy of the network on the  train images: 92 %\n",
      "Accuracy of the network on the 10000 test images: 77 %\n"
     ]
    }
   ],
   "source": [
    "correct = 0\n",
    "total = 0\n",
    "model.eval()\n",
    "with torch.no_grad():\n",
    "    for data in trainloader:\n",
    "        images, labels = data\n",
    "        outputs = model(images)\n",
    "        _,predicted = torch.max(outputs.data, 1)\n",
    "        total += labels.size(0)\n",
    "        correct += (predicted == labels).sum().item()\n",
    "print('Accuracy of the network on the  train images: %d %%' % (\n",
    "    100 * correct / total))\n",
    "correct = 0\n",
    "total = 0\n",
    "with torch.no_grad():\n",
    "    for data in testloader:\n",
    "        images, labels = data\n",
    "        outputs = model(images)\n",
    "        _, predicted = torch.max(outputs.data, 1)\n",
    "        total += labels.size(0)\n",
    "        correct += (predicted == labels).sum().item()\n",
    "\n",
    "print('Accuracy of the network on the 10000 test images: %d %%' % (\n",
    "    100 * correct / total))"
   ]
  },
  {
   "cell_type": "markdown",
   "metadata": {},
   "source": [
    "We can see that applying regularisation we decreased the difference between train and test, and improve the accuracy on the test set"
   ]
  },
  {
   "cell_type": "markdown",
   "metadata": {},
   "source": [
    "Let's see how our model works with real images and data "
   ]
  },
  {
   "cell_type": "code",
   "execution_count": 32,
   "metadata": {},
   "outputs": [],
   "source": [
    "import matplotlib.pyplot as plt\n",
    "import numpy as np\n",
    "def imshow(img):\n",
    "    img = img / 2 + 0.5     # unnormalize\n",
    "    npimg = img.numpy()\n",
    "    plt.imshow(np.transpose(npimg, (1, 2, 0)))\n",
    "    plt.show()\n",
    "    \n",
    "classes = ('plane', 'car', 'bird', 'cat',\n",
    "           'deer', 'dog', 'frog', 'horse', 'ship', 'truck')\n"
   ]
  },
  {
   "cell_type": "code",
   "execution_count": 33,
   "metadata": {},
   "outputs": [
    {
     "name": "stderr",
     "output_type": "stream",
     "text": [
      "Clipping input data to the valid range for imshow with RGB data ([0..1] for floats or [0..255] for integers).\n"
     ]
    },
    {
     "data": {
      "image/png": "[encoded data removed]",
      "text/plain": [
       "<Figure size 432x288 with 1 Axes>"
      ]
     },
     "metadata": {
      "needs_background": "light"
     },
     "output_type": "display_data"
    },
    {
     "name": "stdout",
     "output_type": "stream",
     "text": [
      "GroundTruth:   ship  deer  frog  deer  frog  ship  bird  frog\n",
      "Predicted:   ship  deer  frog   cat  frog  bird  frog  frog\n"
     ]
    }
   ],
   "source": [
    "dataiter = iter(testloader)\n",
    "images, labels = dataiter.next()\n",
    "outputs = model(images)\n",
    "imshow(torchvision.utils.make_grid(images))\n",
    "print('GroundTruth: ', ' '.join('%5s' % classes[labels[j]] \n",
    "                                for j in range(8)))\n",
    "_, predicted = torch.max(outputs, 1)\n",
    "print('Predicted: ', ' '.join('%5s' % classes[predicted[j]]\n",
    "                              for j in range(8)))\n"
   ]
  },
  {
   "cell_type": "code",
   "execution_count": null,
   "metadata": {},
   "outputs": [],
   "source": []
  }
 ],
 "metadata": {
  "kernelspec": {
   "display_name": "Python 3",
   "language": "python",
   "name": "python3"
  },
  "language_info": {
   "codemirror_mode": {
    "name": "ipython",
    "version": 3
   },
   "file_extension": ".py",
   "mimetype": "text/x-python",
   "name": "python",
   "nbconvert_exporter": "python",
   "pygments_lexer": "ipython3",
   "version": "3.7.3"
  }
 },
 "nbformat": 4,
 "nbformat_minor": 2
}
